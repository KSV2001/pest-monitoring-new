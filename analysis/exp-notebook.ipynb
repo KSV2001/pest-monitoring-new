{
 "cells": [
  {
   "cell_type": "code",
   "execution_count": 1,
   "id": "e2bd7c89",
   "metadata": {},
   "outputs": [
    {
     "data": {
      "text/plain": [
       "hydra.initialize()"
      ]
     },
     "execution_count": 1,
     "metadata": {},
     "output_type": "execute_result"
    }
   ],
   "source": [
    "from typing import List, Optional\n",
    "from torch.optim.optimizer import Optimizer\n",
    "\n",
    "import os\n",
    "import hydra\n",
    "from torch import nn\n",
    "from omegaconf import DictConfig\n",
    "import pytorch_lightning as pl\n",
    "from pytorch_lightning import (\n",
    "    Callback,\n",
    "    LightningDataModule,\n",
    "    LightningModule,\n",
    "    Trainer,\n",
    "    seed_everything,\n",
    ")\n",
    "from pytorch_lightning.loggers import LightningLoggerBase\n",
    "\n",
    "from src.utils import utils\n",
    "from hydra import compose, initialize\n",
    "from omegaconf import OmegaConf\n",
    "\n",
    "# GlobalHydra.instance().clear()\n",
    "initialize(config_path=\"../configs/\", job_name=\"test_app\")"
   ]
  },
  {
   "cell_type": "code",
   "execution_count": 11,
   "id": "706947f9",
   "metadata": {},
   "outputs": [],
   "source": [
    "config = compose(config_name=\"experiments/base_classification.yaml\", overrides=[])"
   ]
  },
  {
   "cell_type": "code",
   "execution_count": 12,
   "id": "87be1852",
   "metadata": {},
   "outputs": [],
   "source": [
    "datamodule: LightningDataModule = hydra.utils.instantiate(config.datamodule)"
   ]
  },
  {
   "cell_type": "code",
   "execution_count": 13,
   "id": "c91b2dc9",
   "metadata": {},
   "outputs": [],
   "source": [
    "model: LightningModule = hydra.utils.instantiate(config.model, model_config = config.model, _recursive_=False)"
   ]
  },
  {
   "cell_type": "code",
   "execution_count": 19,
   "id": "8f94b74d",
   "metadata": {},
   "outputs": [
    {
     "name": "stderr",
     "output_type": "stream",
     "text": [
      "GPU available: True, used: True\n",
      "TPU available: False, using: 0 TPU cores\n"
     ]
    }
   ],
   "source": [
    "trainer: Trainer = hydra.utils.instantiate(config.trainer, _convert_=\"partial\", gpus=1)"
   ]
  },
  {
   "cell_type": "code",
   "execution_count": 1,
   "id": "5a859bd9",
   "metadata": {},
   "outputs": [],
   "source": [
    "# trainer.fit(model=model, datamodule=datamodule)"
   ]
  },
  {
   "cell_type": "code",
   "execution_count": null,
   "id": "a3a34620",
   "metadata": {},
   "outputs": [],
   "source": []
  }
 ],
 "metadata": {
  "kernelspec": {
   "display_name": "Python 3",
   "language": "python",
   "name": "python3"
  },
  "language_info": {
   "codemirror_mode": {
    "name": "ipython",
    "version": 3
   },
   "file_extension": ".py",
   "mimetype": "text/x-python",
   "name": "python",
   "nbconvert_exporter": "python",
   "pygments_lexer": "ipython3",
   "version": "3.6.9"
  }
 },
 "nbformat": 4,
 "nbformat_minor": 5
}
