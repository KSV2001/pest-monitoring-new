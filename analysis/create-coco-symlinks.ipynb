{
 "cells": [
  {
   "cell_type": "code",
   "execution_count": 17,
   "id": "f3062cbc",
   "metadata": {},
   "outputs": [],
   "source": [
    "\"\"\"\n",
    "Set symlinks for COCO detection\n",
    "\"\"\"\n",
    "from os import makedirs, symlink, listdir\n",
    "from os.path import join, basename, exists, isdir\n",
    "from glob import glob\n",
    "from subprocess import call\n",
    "from termcolor import colored\n",
    "from tqdm import tqdm"
   ]
  },
  {
   "cell_type": "code",
   "execution_count": 2,
   "id": "84228736",
   "metadata": {},
   "outputs": [],
   "source": [
    "DATA_DIR = '/data/coco/raw'"
   ]
  },
  {
   "cell_type": "code",
   "execution_count": 4,
   "id": "713c390c",
   "metadata": {},
   "outputs": [],
   "source": [
    "image_folders = ['train2014', 'val2014', 'test2014']\n",
    "annotation_folders = ['annotation_trainval2014', 'image_info_test2014']"
   ]
  },
  {
   "cell_type": "markdown",
   "id": "3dd0fe63",
   "metadata": {},
   "source": []
  },
  {
   "cell_type": "markdown",
   "id": "4eadba04",
   "metadata": {},
   "source": [
    "#### Getting Images"
   ]
  },
  {
   "cell_type": "code",
   "execution_count": 13,
   "id": "e37a1c91",
   "metadata": {},
   "outputs": [],
   "source": [
    "train_images_path = join(DATA_DIR, 'train2014', 'train2014')"
   ]
  },
  {
   "cell_type": "code",
   "execution_count": 22,
   "id": "f9aea173",
   "metadata": {},
   "outputs": [],
   "source": [
    "image_paths = {}\n",
    "for split in ['train', 'val', 'test']:\n",
    "    path = join(DATA_DIR, f'{split}2014', f'{split}2014')\n",
    "    image_paths[split] = [join(path, x) for x in listdir(path)]"
   ]
  },
  {
   "cell_type": "code",
   "execution_count": 30,
   "id": "c6fc94f9",
   "metadata": {},
   "outputs": [
    {
     "name": "stdout",
     "output_type": "stream",
     "text": [
      "captions_train2014.json   instances_val2014.json\n",
      "captions_val2014.json     person_keypoints_train2014.json\n",
      "instances_train2014.json  person_keypoints_val2014.json\n"
     ]
    }
   ],
   "source": [
    "ls '/data/coco/raw/annotations_trainval2014/annotations'"
   ]
  },
  {
   "cell_type": "markdown",
   "id": "dc425691",
   "metadata": {},
   "source": [
    "#### Getting Annotations"
   ]
  },
  {
   "cell_type": "code",
   "execution_count": 24,
   "id": "5ac0037e",
   "metadata": {},
   "outputs": [
    {
     "data": {
      "text/plain": [
       "'/data/coco/raw/annotation_trainval2014/annotation_trainval2014'"
      ]
     },
     "execution_count": 24,
     "metadata": {},
     "output_type": "execute_result"
    }
   ],
   "source": [
    "join(DATA_DIR, 'annotation_trainval2014', 'annotation_trainval2014')"
   ]
  },
  {
   "cell_type": "code",
   "execution_count": null,
   "id": "087b5e50",
   "metadata": {},
   "outputs": [],
   "source": [
    "data"
   ]
  }
 ],
 "metadata": {
  "kernelspec": {
   "display_name": "Python 3",
   "language": "python",
   "name": "python3"
  },
  "language_info": {
   "codemirror_mode": {
    "name": "ipython",
    "version": 3
   },
   "file_extension": ".py",
   "mimetype": "text/x-python",
   "name": "python",
   "nbconvert_exporter": "python",
   "pygments_lexer": "ipython3",
   "version": "3.6.9"
  }
 },
 "nbformat": 4,
 "nbformat_minor": 5
}
