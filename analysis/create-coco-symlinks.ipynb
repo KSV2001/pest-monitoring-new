{
 "cells": [
  {
   "cell_type": "code",
   "execution_count": 32,
   "id": "83107536",
   "metadata": {},
   "outputs": [],
   "source": [
    "\"\"\"\n",
    "Set symlinks for COCO detection\n",
    "\"\"\"\n",
    "from os import makedirs, symlink, listdir\n",
    "from os.path import join, basename, exists, isdir\n",
    "from glob import glob\n",
    "from subprocess import call\n",
    "from termcolor import colored\n",
    "from tqdm import tqdm\n",
    "from pycocotools.coco import COCO"
   ]
  },
  {
   "cell_type": "code",
   "execution_count": 2,
   "id": "b1acd2b8",
   "metadata": {},
   "outputs": [],
   "source": [
    "DATA_DIR = '/data/coco/raw'"
   ]
  },
  {
   "cell_type": "code",
   "execution_count": 4,
   "id": "f0c794ca",
   "metadata": {},
   "outputs": [],
   "source": [
    "image_folders = ['train2014', 'val2014', 'test2014']\n",
    "annotation_folders = ['annotation_trainval2014', 'image_info_test2014']"
   ]
  },
  {
   "cell_type": "code",
   "execution_count": null,
   "id": "8e7cb9b7",
   "metadata": {},
   "outputs": [],
   "source": []
  },
  {
   "cell_type": "code",
   "execution_count": 34,
   "id": "8dd19a11",
   "metadata": {},
   "outputs": [
    {
     "name": "stdout",
     "output_type": "stream",
     "text": [
      "loading annotations into memory...\n",
      "Done (t=14.21s)\n",
      "creating index...\n",
      "index created!\n"
     ]
    }
   ],
   "source": [
    "coco = COCO('/data/coco2014/raw/annotations/instances_train2014.json')"
   ]
  },
  {
   "cell_type": "code",
   "execution_count": 35,
   "id": "fcab25ba",
   "metadata": {},
   "outputs": [],
   "source": [
    "ids = list(sorted(coco.imgs.keys()))"
   ]
  },
  {
   "cell_type": "code",
   "execution_count": 40,
   "id": "919a3e9c",
   "metadata": {},
   "outputs": [],
   "source": [
    "ann_ids = coco.getAnnIds(imgIds=ids[0])\n",
    "coco_annotation = coco.loadAnns(ann_ids)"
   ]
  },
  {
   "cell_type": "code",
   "execution_count": 42,
   "id": "1755ba89",
   "metadata": {},
   "outputs": [
    {
     "data": {
      "text/plain": [
       "8"
      ]
     },
     "execution_count": 42,
     "metadata": {},
     "output_type": "execute_result"
    }
   ],
   "source": [
    "len(coco_annotation)"
   ]
  },
  {
   "cell_type": "code",
   "execution_count": 46,
   "id": "c73328f1",
   "metadata": {},
   "outputs": [],
   "source": [
    "import torch"
   ]
  },
  {
   "cell_type": "code",
   "execution_count": 47,
   "id": "be5a2b7a",
   "metadata": {},
   "outputs": [
    {
     "data": {
      "text/plain": [
       "tensor([51., 51., 56., 51., 55., 55., 55., 55.])"
      ]
     },
     "execution_count": 47,
     "metadata": {},
     "output_type": "execute_result"
    }
   ],
   "source": []
  },
  {
   "cell_type": "code",
   "execution_count": 37,
   "id": "75b164cd",
   "metadata": {},
   "outputs": [
    {
     "data": {
      "text/plain": [
       "[{'license': 3,\n",
       "  'file_name': 'COCO_train2014_000000000009.jpg',\n",
       "  'coco_url': 'http://images.cocodataset.org/train2014/COCO_train2014_000000000009.jpg',\n",
       "  'height': 480,\n",
       "  'width': 640,\n",
       "  'date_captured': '2013-11-19 20:40:11',\n",
       "  'flickr_url': 'http://farm5.staticflickr.com/4026/4622125393_84c1fdb8d6_z.jpg',\n",
       "  'id': 9}]"
      ]
     },
     "execution_count": 37,
     "metadata": {},
     "output_type": "execute_result"
    }
   ],
   "source": [
    "coco.loadImgs(ids[0])"
   ]
  },
  {
   "cell_type": "markdown",
   "id": "2cbd5a6a",
   "metadata": {},
   "source": [
    "#### Getting Images"
   ]
  },
  {
   "cell_type": "code",
   "execution_count": 13,
   "id": "f7629545",
   "metadata": {},
   "outputs": [],
   "source": [
    "train_images_path = join(DATA_DIR, 'train2014', 'train2014')"
   ]
  },
  {
   "cell_type": "code",
   "execution_count": 22,
   "id": "35e596b6",
   "metadata": {},
   "outputs": [],
   "source": [
    "image_paths = {}\n",
    "for split in ['train', 'val', 'test']:\n",
    "    path = join(DATA_DIR, f'{split}2014', f'{split}2014')\n",
    "    image_paths[split] = [join(path, x) for x in listdir(path)]"
   ]
  },
  {
   "cell_type": "code",
   "execution_count": 30,
   "id": "dfe14861",
   "metadata": {},
   "outputs": [
    {
     "name": "stdout",
     "output_type": "stream",
     "text": [
      "captions_train2014.json   instances_val2014.json\n",
      "captions_val2014.json     person_keypoints_train2014.json\n",
      "instances_train2014.json  person_keypoints_val2014.json\n"
     ]
    }
   ],
   "source": [
    "ls '/data/coco/raw/annotations_trainval2014/annotations'"
   ]
  },
  {
   "cell_type": "markdown",
   "id": "a760d642",
   "metadata": {},
   "source": [
    "#### Getting Annotations"
   ]
  },
  {
   "cell_type": "code",
   "execution_count": 24,
   "id": "b6e5481a",
   "metadata": {},
   "outputs": [
    {
     "data": {
      "text/plain": [
       "'/data/coco/raw/annotation_trainval2014/annotation_trainval2014'"
      ]
     },
     "execution_count": 24,
     "metadata": {},
     "output_type": "execute_result"
    }
   ],
   "source": [
    "join(DATA_DIR, 'annotation_trainval2014', 'annotation_trainval2014')"
   ]
  },
  {
   "cell_type": "code",
   "execution_count": null,
   "id": "71788893",
   "metadata": {},
   "outputs": [],
   "source": [
    "data"
   ]
  }
 ],
 "metadata": {
  "kernelspec": {
   "display_name": "Python 3",
   "language": "python",
   "name": "python3"
  },
  "language_info": {
   "codemirror_mode": {
    "name": "ipython",
    "version": 3
   },
   "file_extension": ".py",
   "mimetype": "text/x-python",
   "name": "python",
   "nbconvert_exporter": "python",
   "pygments_lexer": "ipython3",
   "version": "3.6.9"
  }
 },
 "nbformat": 4,
 "nbformat_minor": 5
}
