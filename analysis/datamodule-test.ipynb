{
 "cells": [
  {
   "cell_type": "code",
   "execution_count": 1,
   "id": "cbabed09",
   "metadata": {},
   "outputs": [
    {
     "data": {
      "text/plain": [
       "hydra.initialize()"
      ]
     },
     "execution_count": 1,
     "metadata": {},
     "output_type": "execute_result"
    }
   ],
   "source": [
    "from typing import List, Optional\n",
    "from torch.optim.optimizer import Optimizer\n",
    "\n",
    "import os\n",
    "import hydra\n",
    "from torch import nn\n",
    "from omegaconf import DictConfig\n",
    "import pytorch_lightning as pl\n",
    "from pytorch_lightning import (\n",
    "    Callback,\n",
    "    LightningDataModule,\n",
    "    LightningModule,\n",
    "    Trainer,\n",
    "    seed_everything,\n",
    ")\n",
    "from pytorch_lightning.loggers import LightningLoggerBase\n",
    "\n",
    "from src.utils import utils\n",
    "from hydra import compose, initialize\n",
    "from omegaconf import OmegaConf\n",
    "\n",
    "# GlobalHydra.instance().clear()\n",
    "initialize(config_path=\"../configs/\", job_name=\"test_app\")"
   ]
  },
  {
   "cell_type": "code",
   "execution_count": 2,
   "id": "ad01c9a2",
   "metadata": {},
   "outputs": [],
   "source": [
    "from torch.utils.data import Dataset\n",
    "from torchvision import transforms"
   ]
  },
  {
   "cell_type": "code",
   "execution_count": 3,
   "id": "905c44d0",
   "metadata": {},
   "outputs": [],
   "source": [
    "config = compose(config_name=\"experiments/base_object_detection.yaml\", overrides=[])"
   ]
  },
  {
   "cell_type": "code",
   "execution_count": 4,
   "id": "229829bc",
   "metadata": {},
   "outputs": [],
   "source": [
    "default_transforms = transforms.Compose([\n",
    "            transforms.ToTensor(),\n",
    "            transforms.Resize(512)\n",
    "        ])"
   ]
  },
  {
   "cell_type": "code",
   "execution_count": 5,
   "id": "a9fd764a",
   "metadata": {},
   "outputs": [],
   "source": [
    "train_dataset: Dataset = hydra.utils.instantiate(config.datamodule.dataset,\n",
    "                                         dataset_config = config.datamodule.dataset,\n",
    "                                         SPLIT_FILE = os.path.join(config.datamodule.dataset.SPLIT_FILE, 'train.txt'),\n",
    "                                         transforms = default_transforms,\n",
    "                                          _recursive_=False)\n",
    "val_dataset: Dataset = hydra.utils.instantiate(config.datamodule.dataset,\n",
    "                                         dataset_config = config.datamodule.dataset,\n",
    "                                         SPLIT_FILE = os.path.join(config.datamodule.dataset.SPLIT_FILE, 'val.txt'),\n",
    "                                         transforms = default_transforms,\n",
    "                                          _recursive_=False)    "
   ]
  },
  {
   "cell_type": "code",
   "execution_count": 6,
   "id": "8a70e097",
   "metadata": {},
   "outputs": [
    {
     "data": {
      "text/plain": [
       "2022"
      ]
     },
     "execution_count": 6,
     "metadata": {},
     "output_type": "execute_result"
    }
   ],
   "source": [
    "len(val_dataset)"
   ]
  },
  {
   "cell_type": "code",
   "execution_count": 7,
   "id": "93e669e8",
   "metadata": {},
   "outputs": [],
   "source": [
    "datamodule: LightningDataModule = hydra.utils.instantiate(config.datamodule, data_config = config.datamodule, _recursive_=False)"
   ]
  },
  {
   "cell_type": "code",
   "execution_count": 8,
   "id": "bb7d49a3",
   "metadata": {},
   "outputs": [],
   "source": [
    "datamodule.setup()"
   ]
  },
  {
   "cell_type": "code",
   "execution_count": 9,
   "id": "1f7daf45",
   "metadata": {},
   "outputs": [],
   "source": [
    "train_dataloader = datamodule.train_dataloader()\n",
    "val_dataloader = datamodule.val_dataloader()\n",
    "test_dataloader = datamodule.test_dataloader()"
   ]
  },
  {
   "cell_type": "code",
   "execution_count": 10,
   "id": "a539ef57",
   "metadata": {},
   "outputs": [
    {
     "data": {
      "text/plain": [
       "(8994, 2022, 1451)"
      ]
     },
     "execution_count": 10,
     "metadata": {},
     "output_type": "execute_result"
    }
   ],
   "source": [
    "len(train_dataloader), len(val_dataloader), len(test_dataloader)"
   ]
  },
  {
   "cell_type": "code",
   "execution_count": 11,
   "id": "b00506c8",
   "metadata": {},
   "outputs": [],
   "source": [
    "for batch_id, batch in enumerate(test_dataloader):\n",
    "    break"
   ]
  },
  {
   "cell_type": "code",
   "execution_count": 14,
   "id": "e577d998",
   "metadata": {},
   "outputs": [
    {
     "data": {
      "text/plain": [
       "torch.Size([1, 3, 512, 512])"
      ]
     },
     "execution_count": 14,
     "metadata": {},
     "output_type": "execute_result"
    }
   ],
   "source": [
    "batch['img'].shape"
   ]
  },
  {
   "cell_type": "code",
   "execution_count": 15,
   "id": "f430bade",
   "metadata": {},
   "outputs": [
    {
     "data": {
      "text/plain": [
       "{'img_id': ['011b8618-9b79-40fe-958b-3e35c55930f6_trap3_4744115559943958786'],\n",
       " 'img': tensor([[[[0.7994, 0.7840, 0.7828,  ..., 0.7521, 0.7385, 0.7484],\n",
       "           [0.8086, 0.7649, 0.8142,  ..., 0.7389, 0.7495, 0.7462],\n",
       "           [0.7880, 0.7946, 0.8037,  ..., 0.7433, 0.7426, 0.7377],\n",
       "           ...,\n",
       "           [0.7320, 0.7395, 0.7451,  ..., 0.7145, 0.7119, 0.7213],\n",
       "           [0.7415, 0.7333, 0.7202,  ..., 0.7145, 0.7147, 0.6972],\n",
       "           [0.7392, 0.7199, 0.7197,  ..., 0.7031, 0.7201, 0.7171]],\n",
       " \n",
       "          [[0.7563, 0.7408, 0.7431,  ..., 0.7111, 0.6993, 0.7092],\n",
       "           [0.7655, 0.7218, 0.7710,  ..., 0.6997, 0.7103, 0.7070],\n",
       "           [0.7449, 0.7515, 0.7606,  ..., 0.7041, 0.7034, 0.6984],\n",
       "           ...,\n",
       "           [0.6928, 0.7003, 0.7059,  ..., 0.6949, 0.6884, 0.6978],\n",
       "           [0.7023, 0.6941, 0.6810,  ..., 0.6949, 0.6912, 0.6737],\n",
       "           [0.6999, 0.6807, 0.6805,  ..., 0.6835, 0.6970, 0.6870]],\n",
       " \n",
       "          [[0.1916, 0.1761, 0.1681,  ..., 0.1008, 0.0758, 0.0857],\n",
       "           [0.2126, 0.1688, 0.2142,  ..., 0.0840, 0.0868, 0.0835],\n",
       "           [0.1871, 0.1985, 0.2048,  ..., 0.0884, 0.0799, 0.0749],\n",
       "           ...,\n",
       "           [0.1163, 0.1159, 0.1216,  ..., 0.1302, 0.1001, 0.1138],\n",
       "           [0.1259, 0.1176, 0.1045,  ..., 0.1302, 0.1030, 0.0898],\n",
       "           [0.1235, 0.1042, 0.1040,  ..., 0.1188, 0.1287, 0.1279]]]]),\n",
       " 'bbox_coord': tensor([], size=(1, 0, 4)),\n",
       " 'bbox_class': tensor([], size=(1, 0)),\n",
       " 'val_class': tensor([0])}"
      ]
     },
     "execution_count": 15,
     "metadata": {},
     "output_type": "execute_result"
    }
   ],
   "source": [
    "batch"
   ]
  },
  {
   "cell_type": "code",
   "execution_count": null,
   "id": "4a162129",
   "metadata": {},
   "outputs": [],
   "source": []
  }
 ],
 "metadata": {
  "kernelspec": {
   "display_name": "Python 3",
   "language": "python",
   "name": "python3"
  },
  "language_info": {
   "codemirror_mode": {
    "name": "ipython",
    "version": 3
   },
   "file_extension": ".py",
   "mimetype": "text/x-python",
   "name": "python",
   "nbconvert_exporter": "python",
   "pygments_lexer": "ipython3",
   "version": "3.6.9"
  }
 },
 "nbformat": 4,
 "nbformat_minor": 5
}
