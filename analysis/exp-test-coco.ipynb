{
 "cells": [
  {
   "cell_type": "code",
   "execution_count": 1,
   "id": "42407db4",
   "metadata": {},
   "outputs": [
    {
     "data": {
      "text/plain": [
       "hydra.initialize()"
      ]
     },
     "execution_count": 1,
     "metadata": {},
     "output_type": "execute_result"
    }
   ],
   "source": [
    "from typing import List, Optional\n",
    "from torch.optim.optimizer import Optimizer\n",
    "\n",
    "import os\n",
    "import hydra\n",
    "from torch import nn\n",
    "from omegaconf import DictConfig\n",
    "import pytorch_lightning as pl\n",
    "from pytorch_lightning import (\n",
    "    Callback,\n",
    "    LightningDataModule,\n",
    "    LightningModule,\n",
    "    Trainer,\n",
    "    seed_everything,\n",
    ")\n",
    "from pytorch_lightning.loggers import LightningLoggerBase\n",
    "\n",
    "from torch.utils.data import Dataset\n",
    "from src.utils import utils\n",
    "from hydra import compose, initialize\n",
    "from omegaconf import OmegaConf\n",
    "from src.metrics.bounding_box import BoundingBox\n",
    "from src.metrics.enumerators import BBType, CoordinatesType, BBFormat, MethodAveragePrecision\n",
    "from enum import Enum\n",
    "\n",
    "# GlobalHydra.instance().clear()\n",
    "initialize(config_path=\"../configs/\", job_name=\"test_app\")"
   ]
  },
  {
   "cell_type": "code",
   "execution_count": 2,
   "id": "49b7a23d",
   "metadata": {},
   "outputs": [],
   "source": [
    "config = compose(config_name=\"experiments/pest-detection-ssd/base.yaml\", overrides=[])"
   ]
  },
  {
   "cell_type": "code",
   "execution_count": 3,
   "id": "8e1101c9",
   "metadata": {},
   "outputs": [],
   "source": [
    "datamodule: LightningDataModule = hydra.utils.instantiate(config.datamodule, data_config = config.datamodule, _recursive_=False)\n",
    "datamodule.setup()"
   ]
  },
  {
   "cell_type": "code",
   "execution_count": 4,
   "id": "86409102",
   "metadata": {},
   "outputs": [],
   "source": [
    "from src.data.utils import generate_dboxes, Encoder\n",
    "\n",
    "dboxes = generate_dboxes(model=\"ssd\")\n",
    "box_encoder = Encoder(dboxes = dboxes)\n",
    "criterion = hydra.utils.instantiate(config.model.loss, dboxes = dboxes)\n",
    "network = hydra.utils.instantiate(config.model.network)"
   ]
  },
  {
   "cell_type": "markdown",
   "id": "1d2eb389",
   "metadata": {},
   "source": [
    "### Trial Run (Check if this works)"
   ]
  },
  {
   "cell_type": "code",
   "execution_count": 6,
   "id": "c8e9e2a9",
   "metadata": {},
   "outputs": [],
   "source": [
    "pd_boxes_trial = [BoundingBox(image_name = 'a',\n",
    "                 class_id=str(1.),\n",
    "                 coordinates=(0.25, 0.25, 0.75, 0.75),\n",
    "                 type_coordinates=CoordinatesType.RELATIVE,\n",
    "                 img_size=(300, 300),\n",
    "                 bb_type=BBType.DETECTED,\n",
    "                 confidence=0.99,\n",
    "                 format=BBFormat.XYX2Y2)]\n",
    "gt_boxes_trial = [BoundingBox(image_name = 'a',\n",
    "                 class_id=str(1.),\n",
    "                 coordinates=(0.25, 0.25, 0.85, 0.75),\n",
    "                 type_coordinates=CoordinatesType.RELATIVE,\n",
    "                 img_size=(300, 300),\n",
    "                 bb_type=BBType.GROUND_TRUTH,\n",
    "                 format=BBFormat.XYX2Y2)]"
   ]
  },
  {
   "cell_type": "code",
   "execution_count": 7,
   "id": "a492b88d",
   "metadata": {},
   "outputs": [],
   "source": [
    "from src.metrics.pascal_voc_evaluator import get_pascalvoc_metrics, get_metrics"
   ]
  },
  {
   "cell_type": "code",
   "execution_count": 8,
   "id": "d402c488",
   "metadata": {},
   "outputs": [],
   "source": [
    "d_ = get_pascalvoc_metrics(gt_boxes_trial,\n",
    "                          pd_boxes_trial,\n",
    "                          iou_threshold=0.1,\n",
    "                          method=MethodAveragePrecision.EVERY_POINT_INTERPOLATION,\n",
    "                          generate_table=False)"
   ]
  },
  {
   "cell_type": "code",
   "execution_count": 9,
   "id": "ea519675",
   "metadata": {},
   "outputs": [
    {
     "data": {
      "text/plain": [
       "{'per_class': {'1.0': {'precision': array([1.]),\n",
       "   'recall': array([1.]),\n",
       "   'AP': 1.0,\n",
       "   'interpolated precision': [1.0, 1.0],\n",
       "   'interpolated recall': [0, 1.0],\n",
       "   'total positives': 1,\n",
       "   'total TP': 1.0,\n",
       "   'total FP': 0.0,\n",
       "   'method': <MethodAveragePrecision.EVERY_POINT_INTERPOLATION: 1>,\n",
       "   'iou': 0.1,\n",
       "   'table': None}},\n",
       " 'mAP': 1.0}"
      ]
     },
     "execution_count": 9,
     "metadata": {},
     "output_type": "execute_result"
    }
   ],
   "source": [
    "d_"
   ]
  },
  {
   "cell_type": "markdown",
   "id": "6328f4c5",
   "metadata": {},
   "source": [
    "### Test on Our dataset"
   ]
  },
  {
   "cell_type": "code",
   "execution_count": 10,
   "id": "f2c67b18",
   "metadata": {},
   "outputs": [],
   "source": [
    "for batch_id, batch in enumerate(datamodule.train_dataloader()):\n",
    "    break"
   ]
  },
  {
   "cell_type": "code",
   "execution_count": 11,
   "id": "be43c9a5",
   "metadata": {},
   "outputs": [],
   "source": [
    "images, glocs, glabels, img_ids = batch['imgs'], batch['bbox_coords'], batch['bbox_classes'], batch['img_ids']\n",
    "plocs, plabels = network(images)"
   ]
  },
  {
   "cell_type": "code",
   "execution_count": 147,
   "id": "ccc018d6",
   "metadata": {},
   "outputs": [],
   "source": [
    "# Create List[BoundingBox] format for pascal_voc_evaluator\n",
    "pd_boxes = []\n",
    "gt_boxes = []\n",
    "\n",
    "# Loop through batch\n",
    "for idx in range(plocs.shape[0]):\n",
    "    ploc_i = plocs[idx, :, :].unsqueeze(0)\n",
    "    plabel_i = plabels[idx, :, :].unsqueeze(0)\n",
    "    try:\n",
    "        result = box_encoder.decode_batch(ploc_i, plabel_i, 0.5, 200)[0]\n",
    "    except:\n",
    "        print(\"No object detected in idx: {}\".format(idx))\n",
    "        continue\n",
    "\n",
    "    loc, label, prob = [r.detach().numpy() for r in result]\n",
    "    for loc_, label_, prob_ in zip(loc, label, prob):\n",
    "        pd_boxes.append(BoundingBox(image_name = img_ids[idx],\n",
    "                class_id=str(label_),\n",
    "                coordinates=(loc_[0], loc_[1], loc_[2], loc_[3]),\n",
    "                type_coordinates=CoordinatesType.RELATIVE,\n",
    "                img_size=(300, 300),\n",
    "                bb_type=BBType.DETECTED,\n",
    "                confidence=prob_,\n",
    "                format=BBFormat.XYX2Y2))\n",
    "\n",
    "    gloc_i = glocs[idx]\n",
    "    glabel_i = glabels[idx]\n",
    "\n",
    "    if glabel_i.numel() == 0:\n",
    "        continue\n",
    "\n",
    "    gloc_i, glabel_i = gloc_i.detach().numpy(), glabel_i.detach().numpy()\n",
    "    for loc_, label_ in zip(gloc_i, glabel_i):\n",
    "        gt_boxes.append(BoundingBox(image_name = img_ids[idx],\n",
    "                class_id=str(label_),\n",
    "                coordinates=(loc_[0], loc_[1], loc_[2], loc_[3]),\n",
    "                type_coordinates=CoordinatesType.RELATIVE,\n",
    "                img_size=(300, 300),\n",
    "                bb_type=BBType.GROUND_TRUTH,\n",
    "                format=BBFormat.XYX2Y2)) "
   ]
  },
  {
   "cell_type": "code",
   "execution_count": 22,
   "id": "670362a9",
   "metadata": {},
   "outputs": [],
   "source": [
    "# [(b._x, b._y, b._w, b._h, b._x2, b._y2, b._class_id) for b in gt_boxes]"
   ]
  },
  {
   "cell_type": "code",
   "execution_count": null,
   "id": "7251df87",
   "metadata": {},
   "outputs": [],
   "source": []
  },
  {
   "cell_type": "code",
   "execution_count": null,
   "id": "a92ce95f",
   "metadata": {},
   "outputs": [],
   "source": []
  },
  {
   "cell_type": "code",
   "execution_count": null,
   "id": "edff379c",
   "metadata": {},
   "outputs": [],
   "source": []
  },
  {
   "cell_type": "code",
   "execution_count": 12,
   "id": "c1f9b755",
   "metadata": {},
   "outputs": [],
   "source": [
    "d = get_metrics(img_ids = img_ids,\n",
    "                ploc = ploc, plabel = plabel, gloc = gloc, glabel = glabel,\n",
    "                img_shape = (300, 300),\n",
    "                nms_threshold = 0.5,\n",
    "                max_num = 200,\n",
    "                iou_threshold = 0.5,\n",
    "                encoder = box_encoder)"
   ]
  },
  {
   "cell_type": "code",
   "execution_count": 12,
   "id": "1d2e4c21",
   "metadata": {},
   "outputs": [],
   "source": [
    "i = 8\n",
    "img_id, image, ground_truth_box, ploc, plabel = img_ids[i], images[i], glocs[i], plocs[i], plabels[i]"
   ]
  },
  {
   "cell_type": "code",
   "execution_count": 13,
   "id": "e05de064",
   "metadata": {},
   "outputs": [
    {
     "data": {
      "text/plain": [
       "(torch.Size([3, 300, 300]),\n",
       " torch.Size([3, 4]),\n",
       " torch.Size([4, 8732]),\n",
       " torch.Size([2, 8732]))"
      ]
     },
     "execution_count": 13,
     "metadata": {},
     "output_type": "execute_result"
    }
   ],
   "source": [
    "image.shape, ground_truth_box.shape, ploc.shape, plabel.shape"
   ]
  },
  {
   "cell_type": "code",
   "execution_count": 14,
   "id": "be285ef3",
   "metadata": {},
   "outputs": [],
   "source": [
    "from PIL import Image\n",
    "import  numpy as np\n",
    "import matplotlib.pyplot as plt"
   ]
  },
  {
   "cell_type": "code",
   "execution_count": 15,
   "id": "a526beef",
   "metadata": {},
   "outputs": [],
   "source": [
    "im = np.transpose(image.numpy(), (1, 2, 0))"
   ]
  },
  {
   "cell_type": "code",
   "execution_count": 16,
   "id": "290a6981",
   "metadata": {},
   "outputs": [],
   "source": [
    "bbox = ground_truth_box.numpy()\n",
    "bbox = (bbox * 300).astype(np.int32).tolist()"
   ]
  },
  {
   "cell_type": "code",
   "execution_count": 21,
   "id": "1bf682fb",
   "metadata": {},
   "outputs": [
    {
     "name": "stderr",
     "output_type": "stream",
     "text": [
      "Clipping input data to the valid range for imshow with RGB data ([0..1] for floats or [0..255] for integers).\n"
     ]
    },
    {
     "data": {
      "text/plain": [
       "<matplotlib.image.AxesImage at 0x7f1136240a20>"
      ]
     },
     "execution_count": 21,
     "metadata": {},
     "output_type": "execute_result"
    },
    {
     "data": {
      "image/png": "[encoded data removed]",
      "text/plain": [
       "<Figure size 432x288 with 1 Axes>"
      ]
     },
     "metadata": {
      "needs_background": "light"
     },
     "output_type": "display_data"
    }
   ],
   "source": [
    "plt.imshow(draw_multiple_rectangles(im, bbox))"
   ]
  },
  {
   "cell_type": "code",
   "execution_count": 142,
   "id": "9e2da457",
   "metadata": {},
   "outputs": [],
   "source": [
    "result = box_encoder.decode_batch(ploc.unsqueeze(0), plabel.unsqueeze(0), 0.3, 200)[0]"
   ]
  },
  {
   "cell_type": "code",
   "execution_count": 143,
   "id": "6a415591",
   "metadata": {},
   "outputs": [
    {
     "data": {
      "text/plain": [
       "torch.Size([100, 4])"
      ]
     },
     "execution_count": 143,
     "metadata": {},
     "output_type": "execute_result"
    }
   ],
   "source": [
    "result[0].shape"
   ]
  },
  {
   "cell_type": "code",
   "execution_count": 144,
   "id": "f7ebeeac",
   "metadata": {},
   "outputs": [],
   "source": [
    "pred_bbox = result[0].detach().numpy()\n",
    "pred_bbox = (pred_bbox * 300).astype(np.int32).tolist()"
   ]
  },
  {
   "cell_type": "code",
   "execution_count": 20,
   "id": "91c9c05b",
   "metadata": {},
   "outputs": [],
   "source": [
    "import cv2\n",
    "def draw_rectangle(img,\n",
    "                   bbox,\n",
    "                   bbox_color=(0, 255, 255),\n",
    "                   thickness=3,\n",
    "                   is_opaque=False,\n",
    "                   alpha=0.5):\n",
    "    \"\"\"Draws the rectangle around the object\n",
    "    Parameters\n",
    "    ----------\n",
    "    img : ndarray\n",
    "        the actual image\n",
    "    bbox : list\n",
    "        a list containing x_min, y_min, x_max and y_max of the rectangle positions\n",
    "    bbox_color : tuple, optional\n",
    "        the color of the box, by default (255,255,255)\n",
    "    thickness : int, optional\n",
    "        thickness of the outline of the box, by default 3\n",
    "    is_opaque : bool, optional\n",
    "        if False, draws a solid rectangular outline. Else, a filled rectangle which is semi transparent, by default False\n",
    "    alpha : float, optional\n",
    "        strength of the opacity, by default 0.5\n",
    "    Returns\n",
    "    -------\n",
    "    ndarray\n",
    "        the image with the bounding box drawn\n",
    "    \"\"\"\n",
    "\n",
    "    output = img.copy()\n",
    "    if not is_opaque:\n",
    "        cv2.rectangle(output, (bbox[0], bbox[1]), (bbox[2], bbox[3]),\n",
    "                      bbox_color, thickness)\n",
    "    else:\n",
    "        overlay = img.copy()\n",
    "\n",
    "        cv2.rectangle(overlay, (bbox[0], bbox[1]), (bbox[2], bbox[3]),\n",
    "                      bbox_color, -1)\n",
    "        cv2.addWeighted(overlay, alpha, output, 1 - alpha, 0, output)\n",
    "\n",
    "    return output\n",
    "\n",
    "def draw_multiple_rectangles(img,\n",
    "                             bboxes,\n",
    "                             bbox_color=(0, 255, 255),\n",
    "                             thickness=3,\n",
    "                             is_opaque=False,\n",
    "                             alpha=0.5):\n",
    "    \"\"\"draws multiple rectangles\n",
    "    img : ndarray\n",
    "        the actual image\n",
    "    bboxes : list\n",
    "        a list of lists, each inner list containing x_min, y_min, x_max and y_max of the rectangle positions\n",
    "    bbox_color : tuple, optional\n",
    "        the color of the boxes, by default (255,255,255)\n",
    "    thickness : int, optional\n",
    "        thickness of the outline of the boxes, by default 3\n",
    "    is_opaque : bool, optional\n",
    "        if False, draws solid rectangular outlines for rectangles. Else, filled rectangles which are semi transparent, by default False\n",
    "    alpha : float, optional\n",
    "        strength of the opacity, by default 0.5\n",
    "    Returns\n",
    "    -------\n",
    "    ndarray\n",
    "        the image with the bounding boxes drawn\n",
    "    \"\"\"\n",
    "\n",
    "    for bbox in bboxes:\n",
    "        img = draw_rectangle(img, bbox, bbox_color, thickness, is_opaque,\n",
    "                             alpha)\n",
    "    return img\n"
   ]
  },
  {
   "cell_type": "code",
   "execution_count": null,
   "id": "b73e8844",
   "metadata": {},
   "outputs": [],
   "source": []
  },
  {
   "cell_type": "code",
   "execution_count": 81,
   "id": "c47418cd",
   "metadata": {},
   "outputs": [],
   "source": []
  },
  {
   "cell_type": "markdown",
   "id": "756fe5ae",
   "metadata": {},
   "source": [
    "### Define Network"
   ]
  },
  {
   "cell_type": "code",
   "execution_count": 3,
   "id": "ac3c50a1",
   "metadata": {},
   "outputs": [
    {
     "name": "stderr",
     "output_type": "stream",
     "text": [
      "/root/.local/lib/python3.6/site-packages/torch/nn/_reduction.py:42: UserWarning: size_average and reduce args will be deprecated, please use reduction='none' instead.\n",
      "  warnings.warn(warning.format(ret))\n"
     ]
    }
   ],
   "source": [
    "model: LightningModule = hydra.utils.instantiate(config.model,  model_config = config.model, _recursive_=False)"
   ]
  },
  {
   "cell_type": "code",
   "execution_count": null,
   "id": "beca1b9a",
   "metadata": {},
   "outputs": [],
   "source": []
  },
  {
   "cell_type": "code",
   "execution_count": null,
   "id": "d8936d2c",
   "metadata": {},
   "outputs": [],
   "source": []
  },
  {
   "cell_type": "code",
   "execution_count": 7,
   "id": "8024c32e",
   "metadata": {},
   "outputs": [],
   "source": [
    "# net(batch[0])"
   ]
  },
  {
   "cell_type": "code",
   "execution_count": null,
   "id": "593dcba4",
   "metadata": {},
   "outputs": [],
   "source": []
  }
 ],
 "metadata": {
  "kernelspec": {
   "display_name": "Python 3",
   "language": "python",
   "name": "python3"
  },
  "language_info": {
   "codemirror_mode": {
    "name": "ipython",
    "version": 3
   },
   "file_extension": ".py",
   "mimetype": "text/x-python",
   "name": "python",
   "nbconvert_exporter": "python",
   "pygments_lexer": "ipython3",
   "version": "3.6.9"
  }
 },
 "nbformat": 4,
 "nbformat_minor": 5
}
